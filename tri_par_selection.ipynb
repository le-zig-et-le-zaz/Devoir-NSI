{
 "cells": [
  {
   "cell_type": "code",
   "execution_count": 1,
   "id": "95f17154-ac39-44b1-a652-b75dd5169786",
   "metadata": {},
   "outputs": [],
   "source": [
    "def echange(l, i, j):\n",
    "    # Enregistrer dans une variable la valeur de l[i]\n",
    "    valeur_i = l[i]\n",
    "    # Enregistrer dans une variable la valeur de l[j]\n",
    "    valeur_j = l[j]\n",
    "    # Affecter dans l[i] la valeur de l[j] depuis la variable\n",
    "    l[i] = valeur_j\n",
    "    # Affecter dans l[j] la valeur de l[i] depuis la variable\n",
    "    l[j] = valeur_i\n",
    "\n",
    "l = [1, 3, 2, 4]\n",
    "echange(l, 2, 1)\n",
    "print(l)  # [1, 2, 3, 4]"
   ]
  },
  {
   "cell_type": "code",
   "execution_count": 2,
   "id": "45a0bc85-8166-4aa9-82df-1ae285e92a00",
   "metadata": {},
   "outputs": [],
   "source": [
    "def indice_min(l, debut):\n",
    "    # Sauvegarder dans deux variables (qui serviront à\n",
    "    # stocker la valeur minimale et son indice) les valeurs\n",
    "    # initiales l[debut] et debut respectivement.\n",
    "    valeur_minimale = l[debut]\n",
    "    indice_minimal = debut\n",
    "    \n",
    "    # Parcourir toutes les valeurs de l[debut] à la fin de l\n",
    "    for i in range(debut, len(l)):\n",
    "        # Si la valeur courante est plus petite que la\n",
    "        # valeur minimale enregistrée, mettre à jour la\n",
    "        # valeur et son indice.\n",
    "        if l[i] < valeur_minimale:\n",
    "            valeur_minimale = l[i]\n",
    "            indice_minimal = i\n",
    "        \n",
    "    # Renvoyer l'indice de la valeur minimale\n",
    "    return indice_minimal\n",
    "\n",
    "\n",
    "print(indice_min([4, 7, 3, 2], 1)) # 3"
   ]
  },
  {
   "cell_type": "code",
   "execution_count": 3,
   "id": "c2ebfdd1-5880-4c84-8602-a37566986b06",
   "metadata": {},
   "outputs": [],
   "source": [
    "\n",
    "def tri_selection(l):\n",
    "    # Tri par sélection de l (voir cours)\n",
    "    for i in range(len(l)):\n",
    "        indice = indice_min(l, i)\n",
    "        echange(l, i, indice)\n",
    "\n",
    "\n",
    "l = [4, 7, 9, 8, 2, 4, 1, 7]\n",
    "tri_selection(l)\n",
    "print(l)  # [1, 2, 4, 4, 7, 7, 8, 9]"
   ]
  }
 ],
 "metadata": {
  "kernelspec": {
   "display_name": "Python 3 (ipykernel)",
   "language": "python",
   "name": "python3"
  },
  "language_info": {
   "codemirror_mode": {
    "name": "ipython",
    "version": 3
   },
   "file_extension": ".py",
   "mimetype": "text/x-python",
   "name": "python",
   "nbconvert_exporter": "python",
   "pygments_lexer": "ipython3",
   "version": "3.11.2"
  }
 },
 "nbformat": 4,
 "nbformat_minor": 5
}
